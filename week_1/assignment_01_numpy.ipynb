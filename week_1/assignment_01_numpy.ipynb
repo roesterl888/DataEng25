{
  "cells": [
    {
      "cell_type": "markdown",
      "metadata": {
        "_uuid": "7dac2651304bbdd274a99291c17f3be1e84c222b",
        "id": "PVzFI5BntcUN"
      },
      "source": [
        "# Numpy exercises\n",
        "\n",
        "HINT: use the Numpy documentations\n",
        "* [NumPy User Guide](https://numpy.org/doc/1.22/user/index.html#user)\n",
        "* [NumPy API](https://numpy.org/doc/1.22/reference/index.html#reference)"
      ]
    },
    {
      "cell_type": "code",
      "execution_count": 2,
      "metadata": {
        "_uuid": "1f42e0ab79d92a23b119e23ab8dda63393447466",
        "tags": [],
        "id": "YhULvop-tcUQ"
      },
      "outputs": [],
      "source": [
        "\n",
        "  import numpy as np"
      ]
    },
    {
      "cell_type": "markdown",
      "metadata": {
        "_uuid": "77978f9afb5f957440f180861ccb06c2f644c317",
        "id": "-7HcGyX4tcUR"
      },
      "source": [
        "#### 1) Create a null vector of size 10 (★☆☆)"
      ]
    },
    {
      "cell_type": "code",
      "execution_count": 3,
      "metadata": {
        "_uuid": "beeb301d90b0fd6cb0f015969c969870bee981e8",
        "id": "k7T92aXVtcUS",
        "outputId": "315a844f-09a4-49bd-b9ce-145540bbb043",
        "colab": {
          "base_uri": "https://localhost:8080/"
        }
      },
      "outputs": [
        {
          "output_type": "execute_result",
          "data": {
            "text/plain": [
              "array([0., 0., 0., 0., 0., 0., 0., 0., 0., 0.])"
            ]
          },
          "metadata": {},
          "execution_count": 3
        }
      ],
      "source": [
        "np.zeros(10)"
      ]
    },
    {
      "cell_type": "markdown",
      "metadata": {
        "_uuid": "9f2912dbc92ebcc2e86ac09930187d5d101552da",
        "id": "8AKhCVOXtcUS"
      },
      "source": [
        "#### 2) Print the memory size in bytes of any array (★☆☆)"
      ]
    },
    {
      "cell_type": "code",
      "execution_count": 5,
      "metadata": {
        "_uuid": "114a14936bde56cae519ed2f781f0b241251bdab",
        "id": "l9-WEX1-tcUU",
        "outputId": "a2b21c06-add6-4927-d858-cd23332969fa",
        "colab": {
          "base_uri": "https://localhost:8080/"
        }
      },
      "outputs": [
        {
          "output_type": "stream",
          "name": "stdout",
          "text": [
            "Memory size: 800 bytes\n"
          ]
        }
      ],
      "source": [
        "Z = np.zeros((10,10))\n",
        "memory_size = Z.nbytes\n",
        "print(f\"Memory size: {memory_size} bytes\")\n"
      ]
    },
    {
      "cell_type": "markdown",
      "metadata": {
        "_uuid": "c75ba6ea73f0a23f837c1553a0f564fbb8748557",
        "id": "eVEazAq0tcUU"
      },
      "source": [
        "#### 3) Create a null vector of size 10 but the fifth value which is 1 (★☆☆)"
      ]
    },
    {
      "cell_type": "code",
      "execution_count": 9,
      "metadata": {
        "_uuid": "a916d1332f7e1d7499fd9de3bb422651711df025",
        "id": "IxjPvDxltcUV",
        "outputId": "7d7b3117-3b9d-4cd5-e1e4-79b0e8a4a96d",
        "colab": {
          "base_uri": "https://localhost:8080/"
        }
      },
      "outputs": [
        {
          "output_type": "stream",
          "name": "stdout",
          "text": [
            "[0. 0. 0. 0. 1. 0. 0. 0. 0. 0.]\n"
          ]
        }
      ],
      "source": [
        "Z = np.zeros(10)\n",
        "Z[4] = 1\n",
        "print(Z)\n"
      ]
    },
    {
      "cell_type": "markdown",
      "metadata": {
        "_uuid": "118478fd9f22dc99584c1517078f1cdd4a4b36fc",
        "id": "CrtK24SFtcUW"
      },
      "source": [
        "#### 4) Create a vector with values ranging from 20 to 80 (★☆☆)"
      ]
    },
    {
      "cell_type": "code",
      "execution_count": 10,
      "metadata": {
        "_uuid": "ac7cbc58129168a298298ae6d3a756a2a94c2a5d",
        "id": "DXstBWcftcUX",
        "outputId": "bfaccedb-f876-483e-8981-8e829c48e30c",
        "colab": {
          "base_uri": "https://localhost:8080/"
        }
      },
      "outputs": [
        {
          "output_type": "stream",
          "name": "stdout",
          "text": [
            "[20 21 22 23 24 25 26 27 28 29 30 31 32 33 34 35 36 37 38 39 40 41 42 43\n",
            " 44 45 46 47 48 49 50 51 52 53 54 55 56 57 58 59 60 61 62 63 64 65 66 67\n",
            " 68 69 70 71 72 73 74 75 76 77 78 79 80]\n"
          ]
        }
      ],
      "source": [
        "vector = np.arange(20, 81)\n",
        "print(vector)"
      ]
    },
    {
      "cell_type": "markdown",
      "metadata": {
        "_uuid": "1c153cfc18b4c413b602d9fa073a4c049f1e703b",
        "id": "fS5e70s-tcUX"
      },
      "source": [
        "#### 5) Reverse a vector (first element becomes last) (★☆☆)"
      ]
    },
    {
      "cell_type": "code",
      "execution_count": 11,
      "metadata": {
        "_uuid": "f1498235d2137116b1a7fabc6626dc8549235aba",
        "id": "zE6d1Y-ZtcUY",
        "outputId": "31a5275f-0d5c-4e11-eaaa-7866396bd6e6",
        "colab": {
          "base_uri": "https://localhost:8080/"
        }
      },
      "outputs": [
        {
          "output_type": "stream",
          "name": "stdout",
          "text": [
            "[49 48 47 46 45 44 43 42 41 40 39 38 37 36 35 34 33 32 31 30 29 28 27 26\n",
            " 25 24 23 22 21 20 19 18 17 16 15 14 13 12 11 10  9  8  7  6  5  4  3  2\n",
            "  1  0]\n"
          ]
        }
      ],
      "source": [
        "Z = np.arange(50)\n",
        "Z = Z[::-1]\n",
        "print(Z)\n"
      ]
    },
    {
      "cell_type": "markdown",
      "metadata": {
        "_uuid": "647011edcdd237ef4bfa0ec4ce3a108805bbd11f",
        "id": "uuq5GB1WtcUY"
      },
      "source": [
        "#### 6) Create a 3x3 matrix with values ranging from 0 to 8 (★☆☆)"
      ]
    },
    {
      "cell_type": "code",
      "execution_count": 12,
      "metadata": {
        "_uuid": "d6bf86992dbc3539332876b2caf973bafdb9a790",
        "id": "QamT2RQ1tcUZ",
        "outputId": "32b7a326-100b-4424-8dbb-d64f7c5acdd4",
        "colab": {
          "base_uri": "https://localhost:8080/"
        }
      },
      "outputs": [
        {
          "output_type": "stream",
          "name": "stdout",
          "text": [
            "[[0 1 2]\n",
            " [3 4 5]\n",
            " [6 7 8]]\n"
          ]
        }
      ],
      "source": [
        "values = np.arange(9)\n",
        "matrix = values.reshape((3, 3))\n",
        "print(matrix)"
      ]
    },
    {
      "cell_type": "markdown",
      "metadata": {
        "_uuid": "c7d5733bee779737b5ad4250b257d0a1423ffbff",
        "id": "S82p8B_PtcUa"
      },
      "source": [
        "#### 7) Find indices of non-zero elements from \\[1,2,0,0,4,0\\] (★☆☆)"
      ]
    },
    {
      "cell_type": "code",
      "execution_count": 13,
      "metadata": {
        "_uuid": "e6e0544a4326eaf8f3ea6390a16422a9844d48fc",
        "id": "pbDi3hEytcUa",
        "outputId": "3a549531-40c0-4e6b-f637-f5ef5df18d88",
        "colab": {
          "base_uri": "https://localhost:8080/"
        }
      },
      "outputs": [
        {
          "output_type": "stream",
          "name": "stdout",
          "text": [
            "(array([0, 1, 4]),)\n"
          ]
        }
      ],
      "source": [
        "arr = np.array([1, 2, 0, 0, 4, 0])\n",
        "indices = np.nonzero(arr)\n",
        "print(indices)"
      ]
    },
    {
      "cell_type": "markdown",
      "metadata": {
        "_uuid": "ab5c1aaf0377ab923c6dbb7452671c181544734a",
        "id": "RTtC7Pg5tcUa"
      },
      "source": [
        "#### 8) Create a 3x3 identity matrix (★☆☆)"
      ]
    },
    {
      "cell_type": "code",
      "execution_count": 14,
      "metadata": {
        "_uuid": "0e10bd7b228cff4c485d80142fa5afcea12eb0e1",
        "id": "iTNtHDrvtcUa",
        "outputId": "8b3122f2-df32-48d4-b282-9fef0c4fb23a",
        "colab": {
          "base_uri": "https://localhost:8080/"
        }
      },
      "outputs": [
        {
          "output_type": "stream",
          "name": "stdout",
          "text": [
            "[[1. 0. 0.]\n",
            " [0. 1. 0.]\n",
            " [0. 0. 1.]]\n"
          ]
        }
      ],
      "source": [
        "identity_matrix = np.identity(3)\n",
        "print(identity_matrix)"
      ]
    },
    {
      "cell_type": "markdown",
      "metadata": {
        "_uuid": "9c3d53fd277d07937bc04838c4ca57a0aaaec498",
        "id": "28OJzBQhtcUb"
      },
      "source": [
        "#### 9) Create a 3x3x3 array with random values (★☆☆)"
      ]
    },
    {
      "cell_type": "code",
      "execution_count": 15,
      "metadata": {
        "_uuid": "77840458ba47b330dd84bab7a119e85299856c57",
        "tags": [],
        "id": "jC0nI0HdtcUb",
        "outputId": "d796b87f-7492-487c-f047-710013a503f9",
        "colab": {
          "base_uri": "https://localhost:8080/"
        }
      },
      "outputs": [
        {
          "output_type": "stream",
          "name": "stdout",
          "text": [
            "[[[0.99559661 0.0286654  0.74895719]\n",
            "  [0.25422825 0.64476584 0.45710438]\n",
            "  [0.60539633 0.72133007 0.86699717]]\n",
            "\n",
            " [[0.23870074 0.49219621 0.93869308]\n",
            "  [0.98588046 0.25969596 0.80198231]\n",
            "  [0.58652836 0.80889325 0.05982404]]\n",
            "\n",
            " [[0.22336136 0.41769421 0.28606584]\n",
            "  [0.31222673 0.72650703 0.31546268]\n",
            "  [0.9561407  0.06169873 0.44791138]]]\n"
          ]
        }
      ],
      "source": [
        "random_array = np.random.rand(3, 3, 3)\n",
        "print(random_array)"
      ]
    },
    {
      "cell_type": "markdown",
      "metadata": {
        "_uuid": "886bef95cd1aa9af4133902b45b50127b5da54cb",
        "id": "6mjMWmbrtcUb"
      },
      "source": [
        "#### 10) Create a 10x10 array with random values and find the minimum and maximum values (★☆☆)"
      ]
    },
    {
      "cell_type": "code",
      "execution_count": 16,
      "metadata": {
        "_uuid": "a8c13dc011c6afb824c3a7031330b6bd1a77e497",
        "id": "ezmqrepQtcUc",
        "outputId": "f2080bdb-8aad-4b4a-8c14-8c738e794d35",
        "colab": {
          "base_uri": "https://localhost:8080/"
        }
      },
      "outputs": [
        {
          "output_type": "stream",
          "name": "stdout",
          "text": [
            "Array:\n",
            "[[0.75116402 0.73812039 0.18255042 0.13061332 0.35566237 0.79113786\n",
            "  0.11383825 0.51839601 0.67354152 0.2089363 ]\n",
            " [0.65153331 0.35914797 0.90787344 0.02312591 0.5476491  0.33752273\n",
            "  0.86596149 0.45008019 0.47990087 0.46147006]\n",
            " [0.44194937 0.51500577 0.51420117 0.6594006  0.03266925 0.53985942\n",
            "  0.26888468 0.78781608 0.10879972 0.6130886 ]\n",
            " [0.47092254 0.36820143 0.02727283 0.93320235 0.15628427 0.32556774\n",
            "  0.03814476 0.93990726 0.5027538  0.00792923]\n",
            " [0.38975474 0.89945973 0.50697903 0.75649851 0.35361047 0.10478421\n",
            "  0.54369767 0.96519115 0.38937986 0.81626808]\n",
            " [0.60872122 0.19148407 0.37416645 0.79752562 0.58546962 0.53424362\n",
            "  0.14671653 0.28499946 0.2945862  0.83209553]\n",
            " [0.79150419 0.66908434 0.83456768 0.1088164  0.44512072 0.2503434\n",
            "  0.54075081 0.1575874  0.79024837 0.88228437]\n",
            " [0.2362354  0.15287096 0.15488003 0.14959895 0.0469861  0.68065206\n",
            "  0.26071085 0.16508861 0.6199422  0.91894772]\n",
            " [0.15537664 0.0446414  0.66762301 0.00466307 0.41444248 0.19578622\n",
            "  0.865666   0.31693315 0.20142197 0.81305313]\n",
            " [0.4293712  0.60924379 0.73123459 0.0418256  0.79352689 0.57667307\n",
            "  0.28220533 0.37834318 0.85395249 0.01459849]]\n",
            "\n",
            "Minimum value: 0.0046630718689765205\n",
            "Maximum value: 0.9651911498986175\n"
          ]
        }
      ],
      "source": [
        "\n",
        "array = np.random.rand(10, 10)\n",
        "minimum = array.min()\n",
        "maximum = array.max()\n",
        "\n",
        "print(\"Array:\")\n",
        "print(array)\n",
        "print(\"\\nMinimum value:\", minimum)\n",
        "print(\"Maximum value:\", maximum)"
      ]
    },
    {
      "cell_type": "markdown",
      "metadata": {
        "_uuid": "07db1e47dcff92113a6d4c696e92a5578b20d89f",
        "id": "D3nXmSVatcUc"
      },
      "source": [
        "#### 11) Create a random vector of size 30 and find the mean, variance values (★☆☆)"
      ]
    },
    {
      "cell_type": "code",
      "execution_count": 17,
      "metadata": {
        "_uuid": "a6533f70b28d583e6e1926a0e3e668b465d6ef6c",
        "id": "cBNn5JEutcUc",
        "outputId": "59061344-ee36-4b83-8976-dbb7c46baf0c",
        "colab": {
          "base_uri": "https://localhost:8080/"
        }
      },
      "outputs": [
        {
          "output_type": "stream",
          "name": "stdout",
          "text": [
            "Random Vector:\n",
            "[0.64799493 0.26551193 0.45516655 0.82592892 0.6159588  0.81428266\n",
            " 0.50178888 0.8147406  0.96641141 0.00823391 0.19105152 0.83683054\n",
            " 0.39167291 0.34829875 0.66727949 0.46680449 0.29233393 0.14590313\n",
            " 0.15339324 0.1635089  0.08041684 0.59477959 0.22306179 0.84488994\n",
            " 0.3869626  0.53884898 0.35730537 0.03467043 0.50909628 0.86421741]\n",
            "\n",
            "Mean: 0.46691149129568194\n",
            "Variance: 0.07540475232845792\n"
          ]
        }
      ],
      "source": [
        "vector = np.random.rand(30)\n",
        "mean = np.mean(vector)\n",
        "variance = np.var(vector)\n",
        "\n",
        "print(\"Random Vector:\")\n",
        "print(vector)\n",
        "print(\"\\nMean:\", mean)\n",
        "print(\"Variance:\", variance)"
      ]
    },
    {
      "cell_type": "markdown",
      "metadata": {
        "_uuid": "2234dffb1dffc779d1d24f269da232a560848ad0",
        "id": "MfuCdphVtcUc"
      },
      "source": [
        "#### 12) Create a 2d array with 1 on the border and 0 inside (★☆☆)"
      ]
    },
    {
      "cell_type": "code",
      "execution_count": 18,
      "metadata": {
        "_uuid": "03bef7c11ab2593768ce88331a92c0c7cc10d463",
        "id": "DPuAR7u6tcUc",
        "outputId": "7d65043a-5de6-427c-df15-66f61cef40bd",
        "colab": {
          "base_uri": "https://localhost:8080/"
        }
      },
      "outputs": [
        {
          "output_type": "stream",
          "name": "stdout",
          "text": [
            "[[0.75116402 0.73812039 0.18255042 0.13061332 0.35566237 0.79113786\n",
            "  0.11383825 0.51839601 0.67354152 0.2089363 ]\n",
            " [0.65153331 0.         0.         0.         0.         0.\n",
            "  0.         0.         0.         0.46147006]\n",
            " [0.44194937 0.         0.         0.         0.         0.\n",
            "  0.         0.         0.         0.6130886 ]\n",
            " [0.47092254 0.         0.         0.         0.         0.\n",
            "  0.         0.         0.         0.00792923]\n",
            " [0.38975474 0.         0.         0.         0.         0.\n",
            "  0.         0.         0.         0.81626808]\n",
            " [0.60872122 0.         0.         0.         0.         0.\n",
            "  0.         0.         0.         0.83209553]\n",
            " [0.79150419 0.         0.         0.         0.         0.\n",
            "  0.         0.         0.         0.88228437]\n",
            " [0.2362354  0.         0.         0.         0.         0.\n",
            "  0.         0.         0.         0.91894772]\n",
            " [0.15537664 0.         0.         0.         0.         0.\n",
            "  0.         0.         0.         0.81305313]\n",
            " [0.4293712  0.60924379 0.73123459 0.0418256  0.79352689 0.57667307\n",
            "  0.28220533 0.37834318 0.85395249 0.01459849]]\n"
          ]
        }
      ],
      "source": [
        "Z = np.ones((10,10))\n",
        "array[1:-1, 1:-1] = 0\n",
        "print(array)"
      ]
    },
    {
      "cell_type": "markdown",
      "metadata": {
        "_uuid": "6e24eff853c1ead319eba0adf0efdf31a58c6944",
        "id": "1bqHC_KOtcUd"
      },
      "source": [
        "#### 13) How to add a border (filled with 0's) around an existing array? (★☆☆)"
      ]
    },
    {
      "cell_type": "code",
      "execution_count": 19,
      "metadata": {
        "_uuid": "573dd1238aef49fed4a9cfeb645c09119a307916",
        "id": "2EqLZgcCtcUd",
        "outputId": "c1510cd8-6be1-4b36-b50c-54cdfc857eeb",
        "colab": {
          "base_uri": "https://localhost:8080/"
        }
      },
      "outputs": [
        {
          "output_type": "stream",
          "name": "stdout",
          "text": [
            "[[0. 0. 0. 0. 0. 0. 0.]\n",
            " [0. 1. 1. 1. 1. 1. 0.]\n",
            " [0. 1. 1. 1. 1. 1. 0.]\n",
            " [0. 1. 1. 1. 1. 1. 0.]\n",
            " [0. 1. 1. 1. 1. 1. 0.]\n",
            " [0. 1. 1. 1. 1. 1. 0.]\n",
            " [0. 0. 0. 0. 0. 0. 0.]]\n"
          ]
        }
      ],
      "source": [
        "Z = np.ones((5,5))\n",
        "Z = np.pad(Z, pad_width=1, mode='constant', constant_values=0)\n",
        "print(Z)\n"
      ]
    },
    {
      "cell_type": "markdown",
      "metadata": {
        "_uuid": "1f657aee797f18a40aa7a5e98362719bc73ebdee",
        "id": "KM53NbZstcUd"
      },
      "source": [
        "#### 14) Predict (before executing) the results of the following expressions? (★☆☆)"
      ]
    },
    {
      "cell_type": "code",
      "execution_count": null,
      "metadata": {
        "_uuid": "5bd51740ffe0b687da93acf403807897292ebbc5",
        "id": "9fNpT0_NtcUe",
        "outputId": "24f9c096-b612-4654-c29d-536a3534e05c"
      },
      "outputs": [
        {
          "name": "stdout",
          "output_type": "stream",
          "text": [
            "nan\n",
            "False\n",
            "False\n",
            "nan\n",
            "True\n",
            "False\n"
          ]
        }
      ],
      "source": [
        "print(0 * np.nan)\n",
        "print(np.nan == np.nan)\n",
        "print(np.inf > np.nan)\n",
        "print(np.nan - np.nan)\n",
        "print(np.nan in set([np.nan]))\n",
        "print(0.3 == 3 * 0.1)"
      ]
    },
    {
      "cell_type": "markdown",
      "metadata": {
        "_uuid": "e22023622e0ec70b97ca378772dae42cff45d73c",
        "id": "cbYcsBRPtcUe"
      },
      "source": [
        "#### 15) Create a 6×6 matrix with values 1,2,3,4,5 just below the diagonal (★☆☆)"
      ]
    },
    {
      "cell_type": "code",
      "execution_count": 20,
      "metadata": {
        "_uuid": "f1aaa690119ec31eb516c96023250ff10f2800be",
        "id": "FfTlhg3QtcUe",
        "outputId": "3469450f-6699-4816-9843-f99902e04fd6",
        "colab": {
          "base_uri": "https://localhost:8080/"
        }
      },
      "outputs": [
        {
          "output_type": "stream",
          "name": "stdout",
          "text": [
            "[[0 0 0 0 0 0]\n",
            " [1 0 0 0 0 0]\n",
            " [0 2 0 0 0 0]\n",
            " [0 0 3 0 0 0]\n",
            " [0 0 0 4 0 0]\n",
            " [0 0 0 0 5 0]]\n"
          ]
        }
      ],
      "source": [
        "matrix = np.diag(np.arange(1, 6), k=-1)\n",
        "print(matrix)"
      ]
    },
    {
      "cell_type": "markdown",
      "metadata": {
        "_uuid": "2e1e85761e1eafa4cd8986a3aa28763f2b8197e2",
        "id": "xWwGj3ZXtcUf"
      },
      "source": [
        "#### 16) Create a 8x8 matrix and fill it with a checkerboard (0,1) pattern (★☆☆)"
      ]
    },
    {
      "cell_type": "code",
      "execution_count": 21,
      "metadata": {
        "_uuid": "467504e8796a218a3faa0a787775d8aa577f4c32",
        "id": "MG4WFKRctcUf",
        "outputId": "b57ca4d7-1a14-4c3f-c903-dd5caf5b900d",
        "colab": {
          "base_uri": "https://localhost:8080/"
        }
      },
      "outputs": [
        {
          "output_type": "stream",
          "name": "stdout",
          "text": [
            "[[0 1 0 1 0 1 0 1]\n",
            " [1 0 1 0 1 0 1 0]\n",
            " [0 1 0 1 0 1 0 1]\n",
            " [1 0 1 0 1 0 1 0]\n",
            " [0 1 0 1 0 1 0 1]\n",
            " [1 0 1 0 1 0 1 0]\n",
            " [0 1 0 1 0 1 0 1]\n",
            " [1 0 1 0 1 0 1 0]]\n"
          ]
        }
      ],
      "source": [
        "Z = np.zeros((8,8),dtype=int)\n",
        "Z[::2, 1::2] = 1\n",
        "Z[1::2, ::2] = 1\n",
        "print(Z)\n"
      ]
    },
    {
      "cell_type": "markdown",
      "metadata": {
        "_uuid": "87e644b2696a16879dcf96b35b17a48db550cd04",
        "id": "ELNKIsM1tcUg"
      },
      "source": [
        "#### 17) Consider a (5,6,7) shape array, what is the index (x, y, z) of the 50th element?"
      ]
    },
    {
      "cell_type": "code",
      "execution_count": 22,
      "metadata": {
        "_uuid": "eabdb2c5e23366c763f0cc39939ee68866c3f111",
        "id": "atw32Ty0tcUg",
        "outputId": "e0f73048-08c4-4bfa-ebb9-d2c8711466d4",
        "colab": {
          "base_uri": "https://localhost:8080/"
        }
      },
      "outputs": [
        {
          "output_type": "stream",
          "name": "stdout",
          "text": [
            "(np.int64(1), np.int64(1), np.int64(0))\n"
          ]
        }
      ],
      "source": [
        "arr = np.arange(5 * 6 * 7).reshape(5, 6, 7)\n",
        "index = np.unravel_index(49, arr.shape)\n",
        "print(index)"
      ]
    },
    {
      "cell_type": "markdown",
      "metadata": {
        "_uuid": "659926bf5bf80842361a658fd0f84bf24084fbf3",
        "id": "gI8Nhh--tcUg"
      },
      "source": [
        "#### 18) Multiply a 4x2 matrix by a 2x3 matrix (real matrix product) (★☆☆)"
      ]
    },
    {
      "cell_type": "code",
      "execution_count": 23,
      "metadata": {
        "_uuid": "8be73ba1bd9778d487ac20ef5658c7b8e57c3d67",
        "id": "nyw52hSntcUg",
        "outputId": "ae1fabf5-323e-4d98-b99f-513a5603d26f",
        "colab": {
          "base_uri": "https://localhost:8080/"
        }
      },
      "outputs": [
        {
          "output_type": "stream",
          "name": "stdout",
          "text": [
            "[[ 33  36  39]\n",
            " [ 75  82  89]\n",
            " [117 128 139]\n",
            " [159 174 189]]\n"
          ]
        }
      ],
      "source": [
        "matrix1 = np.array([[1, 2], [3, 4], [5, 6], [7, 8]])\n",
        "matrix2 = np.array([[9, 10, 11], [12, 13, 14]])\n",
        "\n",
        "result = np.dot(matrix1, matrix2)\n",
        "print(result)"
      ]
    },
    {
      "cell_type": "markdown",
      "metadata": {
        "_uuid": "0a65567844ac53a18dbb387a8694da2b1c78294a",
        "id": "eo2Yp6nDtcUg"
      },
      "source": [
        "#### 19) Given a 1D array, negate all elements which are between 3 and 8, in place. (★☆☆)"
      ]
    },
    {
      "cell_type": "code",
      "execution_count": 24,
      "metadata": {
        "_uuid": "d48512adb16f06371f651dd8dc1ae9ea1c3586b1",
        "id": "XPkTzpaatcUh",
        "outputId": "5b7b6821-0daf-4688-9bd9-5ed03cb11571",
        "colab": {
          "base_uri": "https://localhost:8080/"
        }
      },
      "outputs": [
        {
          "output_type": "stream",
          "name": "stdout",
          "text": [
            "[ 0  1  2  3 -4 -5 -6 -7  8  9 10]\n"
          ]
        }
      ],
      "source": [
        "# Author: Evgeni Burovski\n",
        "\n",
        "Z = np.arange(11)\n",
        "Z[(3 < Z) & (Z < 8)] *= -1\n",
        "print(Z)\n"
      ]
    },
    {
      "cell_type": "markdown",
      "metadata": {
        "_uuid": "e49ca0d2249b4a5cf25b264e42c6feb3057889ed",
        "id": "KkhlL7TDtcUh"
      },
      "source": [
        "#### 20. How to find common values between two arrays? (★☆☆)"
      ]
    },
    {
      "cell_type": "code",
      "execution_count": 26,
      "metadata": {
        "_uuid": "b7a1b2802e4c4a2ac5baf737e2065c55bef226b6",
        "id": "Kx-AIGXBtcUh",
        "outputId": "e51cd3f4-e9bc-46e8-9dc9-88ce9096de2f",
        "colab": {
          "base_uri": "https://localhost:8080/"
        }
      },
      "outputs": [
        {
          "output_type": "stream",
          "name": "stdout",
          "text": [
            "[3 4 5 8 9]\n"
          ]
        }
      ],
      "source": [
        "Z1 = np.random.randint(0,10,10)\n",
        "Z2 = np.random.randint(0,10,10)\n",
        "print(np.intersect1d(Z1,Z2))\n"
      ]
    },
    {
      "cell_type": "markdown",
      "metadata": {
        "_uuid": "9e2512ad8b29d3599cababc7009febce91929869",
        "id": "hL0nldSPtcUh"
      },
      "source": [
        "#### 21) How to compute ((A+B)\\*(-A/2)) in place (without copy)? (★★☆)"
      ]
    },
    {
      "cell_type": "code",
      "execution_count": 25,
      "metadata": {
        "_uuid": "4fb34450b8dfabe74d9e411ec45c717e15a0efcd",
        "id": "MuemeaeYtcUh",
        "outputId": "b6bc356b-b6ef-424e-cebe-fa94e82baaec",
        "colab": {
          "base_uri": "https://localhost:8080/"
        }
      },
      "outputs": [
        {
          "output_type": "execute_result",
          "data": {
            "text/plain": [
              "array([-1.5, -1.5, -1.5])"
            ]
          },
          "metadata": {},
          "execution_count": 25
        }
      ],
      "source": [
        "A = np.ones(3)*1\n",
        "B = np.ones(3)*2\n",
        "C = np.ones(3)*3\n",
        "np.add(A,B,out=B)\n",
        "np.divide(A,2,out=A)\n",
        "np.negative(A,out=A)\n",
        "np.multiply(A,B,out=A)\n"
      ]
    },
    {
      "cell_type": "markdown",
      "metadata": {
        "_uuid": "861564e1209df602ba9acf76b21764166d941f64",
        "id": "kGZNNC87tcUj"
      },
      "source": [
        "#### 22) Extract the integer part of a random array (★★☆)"
      ]
    },
    {
      "cell_type": "code",
      "execution_count": 28,
      "metadata": {
        "_uuid": "26071c39ddc28c65fe06329b480504455890609e",
        "id": "Ga_bjtUOtcUj",
        "outputId": "1e6c74d3-4778-4dca-9a51-900b8d3d795e",
        "colab": {
          "base_uri": "https://localhost:8080/"
        }
      },
      "outputs": [
        {
          "output_type": "stream",
          "name": "stdout",
          "text": [
            "[0 7 1 2 0 0 1 4 7 2]\n"
          ]
        }
      ],
      "source": [
        "Z = np.random.uniform(0,10,10)\n",
        "Z_int = Z.astype(int)\n",
        "print(Z_int)"
      ]
    },
    {
      "cell_type": "markdown",
      "metadata": {
        "_uuid": "1acff22fb998865b58d5a9b37b0a5ce5b7f13387",
        "id": "j9fxnDEPtcUj"
      },
      "source": [
        "#### 23) Create a 5x5 matrix with row values ranging from 0 to 4 (★★☆)"
      ]
    },
    {
      "cell_type": "code",
      "execution_count": 29,
      "metadata": {
        "_uuid": "728c78dc7d9477e3300f58d589fbbc888df3cecb",
        "id": "pL-DGmrptcUj",
        "outputId": "690e070e-d2eb-401b-9c2a-49e6cdfdff60",
        "colab": {
          "base_uri": "https://localhost:8080/"
        }
      },
      "outputs": [
        {
          "output_type": "stream",
          "name": "stdout",
          "text": [
            "[[0. 1. 2. 3. 4.]\n",
            " [0. 1. 2. 3. 4.]\n",
            " [0. 1. 2. 3. 4.]\n",
            " [0. 1. 2. 3. 4.]\n",
            " [0. 1. 2. 3. 4.]]\n"
          ]
        }
      ],
      "source": [
        "Z = np.zeros((5,5))\n",
        "Z += np.arange(5)\n",
        "print(Z)"
      ]
    },
    {
      "cell_type": "markdown",
      "metadata": {
        "_uuid": "dd54ec03c8ce814c994611575b49cd2e14b4071a",
        "id": "WGLabHsLtcUj"
      },
      "source": [
        "#### 24) Consider a generator function that generates 10 integers and use it to build an array (★☆☆)"
      ]
    },
    {
      "cell_type": "code",
      "execution_count": 30,
      "metadata": {
        "_uuid": "229a68e06163a294e63f0b377aa697aa8c925cb2",
        "id": "sTvy-b1htcUk",
        "outputId": "28a339ba-9522-40b3-f85e-d0b0ef154f5b",
        "colab": {
          "base_uri": "https://localhost:8080/"
        }
      },
      "outputs": [
        {
          "output_type": "stream",
          "name": "stdout",
          "text": [
            "[0 1 2 3 4 5 6 7 8 9]\n"
          ]
        }
      ],
      "source": [
        "def generate_integers():\n",
        "    for i in range(10):\n",
        "        yield i\n",
        "\n",
        "Z = np.fromiter(generate_integers(), dtype=int)\n",
        "print(Z)"
      ]
    },
    {
      "cell_type": "markdown",
      "metadata": {
        "_uuid": "c52ceff787ef50f22325107cb5f5b1bfac61858f",
        "id": "savgvyf5tcUk"
      },
      "source": [
        "#### 25) Create a vector of size 10 with values ranging from 0 to 1, both excluded (★★☆)"
      ]
    },
    {
      "cell_type": "code",
      "execution_count": 31,
      "metadata": {
        "_uuid": "bcdb9a3b3a6a47768f53ea8e25b70070566c87eb",
        "id": "ZcZ_VtiStcUk",
        "outputId": "335368b6-6234-4729-8101-3d29fbff09bb",
        "colab": {
          "base_uri": "https://localhost:8080/"
        }
      },
      "outputs": [
        {
          "output_type": "stream",
          "name": "stdout",
          "text": [
            "[0.09090909 0.18181818 0.27272727 0.36363636 0.45454545 0.54545455\n",
            " 0.63636364 0.72727273 0.81818182 0.90909091]\n"
          ]
        }
      ],
      "source": [
        "v = np.linspace(0,1,12,endpoint=True)[1:-1]\n",
        "print(v)"
      ]
    },
    {
      "cell_type": "markdown",
      "metadata": {
        "_uuid": "34f5d6e2e269678714f1e5aafec8a92d6411ecd3",
        "id": "HkMqJfqCtcUk"
      },
      "source": [
        "#### 26) Create a random vector of size 10 and sort it (★★☆)"
      ]
    },
    {
      "cell_type": "code",
      "execution_count": 32,
      "metadata": {
        "_uuid": "650bd640404dd8cfdbeb0d91b8fc5ea844ee60a8",
        "id": "jDC6LSFHtcUl",
        "outputId": "b1f2cc2f-5faa-4681-bb21-f4e664e2f178",
        "colab": {
          "base_uri": "https://localhost:8080/"
        }
      },
      "outputs": [
        {
          "output_type": "stream",
          "name": "stdout",
          "text": [
            "[0.0177488  0.04877095 0.20297877 0.22819863 0.32253238 0.4595694\n",
            " 0.71914041 0.76219555 0.80547967 0.84988704]\n"
          ]
        }
      ],
      "source": [
        "Z = np.random.random(10)\n",
        "Z.sort()\n",
        "print(Z)"
      ]
    },
    {
      "cell_type": "markdown",
      "metadata": {
        "_uuid": "0502011982ec9de8f998bdcc76ff2d00dc9bad6e",
        "id": "IOWWVbVttcUl"
      },
      "source": [
        "#### 27) Consider two random array A and B, check if they are equal (★★☆)"
      ]
    },
    {
      "cell_type": "code",
      "execution_count": 33,
      "metadata": {
        "_uuid": "bc542c3112954260eac0bcf08bc8b0ae2ce0ae33",
        "id": "P5rp7f8ltcUl",
        "outputId": "509f4c81-bf67-40bc-d917-b479acb51b7d",
        "colab": {
          "base_uri": "https://localhost:8080/"
        }
      },
      "outputs": [
        {
          "output_type": "stream",
          "name": "stdout",
          "text": [
            "False\n"
          ]
        }
      ],
      "source": [
        "A = np.random.randint(0,2,5)\n",
        "B = np.random.randint(0,2,5)\n",
        "\n",
        "equal = np.array_equal(A,B)\n",
        "print(equal)\n",
        "\n"
      ]
    },
    {
      "cell_type": "markdown",
      "metadata": {
        "_uuid": "100623c44dc702d6ac2ac5d35b4e5173c906f317",
        "id": "-evXvPYbtcUm"
      },
      "source": [
        "#### 28) Make an array immutable (read-only) (★★☆)"
      ]
    },
    {
      "cell_type": "code",
      "execution_count": 35,
      "metadata": {
        "_uuid": "14189438d83341e3e1f92c6a2ced78eefe330569",
        "id": "yeobwDoUtcUm"
      },
      "outputs": [],
      "source": [
        "Z = np.zeros(10)\n",
        "Z.flags.writeable = False\n"
      ]
    },
    {
      "cell_type": "markdown",
      "metadata": {
        "_uuid": "353f854c6c99f2889b0d31cc69bc1fd7fccd0fe1",
        "id": "dPpefdK4tcUn"
      },
      "source": [
        "#### 29) Create random vector of size 10 and replace the maximum value by 0 (★★☆)"
      ]
    },
    {
      "cell_type": "code",
      "execution_count": 36,
      "metadata": {
        "_uuid": "fd9c6de99887f58497e8880f38b8aab24beaef6a",
        "id": "ugS37wsatcUn",
        "outputId": "fb38a13c-6c5f-4da8-e956-2185ea1327e6",
        "colab": {
          "base_uri": "https://localhost:8080/"
        }
      },
      "outputs": [
        {
          "output_type": "stream",
          "name": "stdout",
          "text": [
            "[0.13762239 0.78863254 0.38443342 0.45252604 0.7991761  0.\n",
            " 0.92039282 0.34810832 0.90052891 0.9119018 ]\n"
          ]
        }
      ],
      "source": [
        "Z = np.random.random(10)#\n",
        "Z[Z.argmax()] = 0\n",
        "print(Z)"
      ]
    },
    {
      "cell_type": "markdown",
      "metadata": {
        "_uuid": "35b4e9307a72301c43b077924e4674cdee69fdf0",
        "id": "JOZb3exPtcUn"
      },
      "source": [
        "#### 30) How to convert a float (32 bits) array into an integer (32 bits) in place?"
      ]
    },
    {
      "cell_type": "code",
      "execution_count": 37,
      "metadata": {
        "_uuid": "c67695d2efff4f63dbe4037694504a84deb8d4b9",
        "id": "1qF0ahBQtcUo",
        "outputId": "c69684ca-4ea8-49e1-f32b-14e589118152",
        "colab": {
          "base_uri": "https://localhost:8080/"
        }
      },
      "outputs": [
        {
          "output_type": "stream",
          "name": "stdout",
          "text": [
            "[0 1 2 3 4 5 6 7 8 9]\n"
          ]
        }
      ],
      "source": [
        "Z = np.arange(10, dtype=np.float32)\n",
        "Z = Z.astype(np.int32, copy=False)\n",
        "print(Z)\n"
      ]
    },
    {
      "cell_type": "markdown",
      "metadata": {
        "_uuid": "389113b4e22ac2f5454686a38fa9f4e2500e4c52",
        "id": "gbPXg81LtcUo"
      },
      "source": [
        "#### 31) randomly place 3 elements in a 2D array? (★★☆)"
      ]
    },
    {
      "cell_type": "code",
      "execution_count": 38,
      "metadata": {
        "_uuid": "442c3c5664c0d9dbbe7149a0924e47c4a9699097",
        "id": "vTX6fDAktcUp",
        "outputId": "c2456508-219f-407e-c0e0-6b59b800ce73",
        "colab": {
          "base_uri": "https://localhost:8080/"
        }
      },
      "outputs": [
        {
          "output_type": "stream",
          "name": "stdout",
          "text": [
            "[[0. 0. 0. 0. 0. 0. 0. 1. 0. 0.]\n",
            " [0. 0. 0. 0. 0. 0. 0. 0. 0. 0.]\n",
            " [0. 0. 0. 0. 0. 0. 0. 0. 0. 0.]\n",
            " [0. 0. 0. 0. 0. 0. 0. 0. 0. 0.]\n",
            " [0. 0. 0. 0. 0. 0. 0. 0. 0. 0.]\n",
            " [0. 0. 0. 0. 0. 1. 1. 0. 0. 0.]\n",
            " [0. 0. 0. 0. 0. 0. 0. 0. 0. 0.]\n",
            " [0. 0. 0. 0. 0. 0. 0. 0. 0. 0.]\n",
            " [0. 0. 0. 0. 0. 0. 0. 0. 0. 0.]\n",
            " [0. 0. 0. 0. 0. 0. 0. 0. 0. 0.]]\n"
          ]
        }
      ],
      "source": [
        "n = 10\n",
        "p = 3\n",
        "Z = np.zeros((n,n))\n",
        "np.put(Z, np.random.choice(range(n*n), p, replace=False),1)\n",
        "print(Z)\n"
      ]
    },
    {
      "cell_type": "markdown",
      "metadata": {
        "_uuid": "ad23d8b28a5016197192b4a6ecdfa61d3c54f49f",
        "id": "Ifbl16wCtcUq"
      },
      "source": [
        "#### 32) Subtract the mean of each row of a matrix (★★☆)"
      ]
    },
    {
      "cell_type": "code",
      "execution_count": 39,
      "metadata": {
        "_uuid": "62937a93af1f4bd2ee201a0a28d92ad2e39aeadf",
        "id": "vGl92AEptcUq",
        "outputId": "5a34e902-f434-466a-d38f-8c76ccff4e39",
        "colab": {
          "base_uri": "https://localhost:8080/"
        }
      },
      "outputs": [
        {
          "output_type": "stream",
          "name": "stdout",
          "text": [
            "[[-0.21578729  0.21634752 -0.34287304  0.44722291  0.53416757 -0.09008852\n",
            "   0.45155619 -0.3631375  -0.2849295  -0.35247833]\n",
            " [-0.12294328  0.01329666 -0.00285713  0.34210245  0.09623397 -0.16252354\n",
            "  -0.21099888  0.37085642 -0.41527743  0.09211074]\n",
            " [ 0.33491835  0.16289254 -0.32534239 -0.1822551   0.39361215  0.3599821\n",
            "  -0.35098919  0.38444537 -0.35348408 -0.42377976]\n",
            " [-0.18850852 -0.24315511  0.04624602 -0.28197464 -0.36570325  0.51653594\n",
            "  -0.31530114  0.50849046  0.34822559 -0.02485535]\n",
            " [-0.08339646 -0.02064039 -0.11518864 -0.24267331  0.63372156 -0.2062783\n",
            "  -0.25075625 -0.00102496 -0.19440109  0.48063785]]\n"
          ]
        }
      ],
      "source": [
        "X = np.random.rand(5, 10)\n",
        "Y = X - X.mean(axis=1, keepdims=True)\n",
        "print(Y)"
      ]
    },
    {
      "cell_type": "markdown",
      "metadata": {
        "_uuid": "6dfaee28f6ffc182b31d95b2dd7db135b3cda134",
        "id": "eY2fvj5-tcUq"
      },
      "source": [
        "#### 33) sort an array by the 1st column? (★★☆)"
      ]
    },
    {
      "cell_type": "code",
      "execution_count": 41,
      "metadata": {
        "_uuid": "6d6526eff2206d6766e34a8a9d4aa45222304ecc",
        "id": "SiN6f0URtcUr",
        "outputId": "a24e18fc-74a8-42ee-b0c1-daa330a07f10",
        "colab": {
          "base_uri": "https://localhost:8080/"
        }
      },
      "outputs": [
        {
          "output_type": "stream",
          "name": "stdout",
          "text": [
            "[[1 2 9]\n",
            " [4 8 8]\n",
            " [6 6 6]]\n"
          ]
        }
      ],
      "source": [
        "Z = np.random.randint(0,10,(3,3))\n",
        "print(Z[Z[:,0].argsort()])"
      ]
    },
    {
      "cell_type": "markdown",
      "metadata": {
        "_uuid": "c446326eba80f10ee44e69c38975a02b76272c66",
        "id": "_EG15jiktcUr"
      },
      "source": [
        "#### 34) Find the nearest value from a given value z in an array Z(★★☆)"
      ]
    },
    {
      "cell_type": "code",
      "execution_count": 42,
      "metadata": {
        "_uuid": "475de3550f77c7407940a0b31eeb5016286445c4",
        "id": "5e8ETJQOtcUs",
        "outputId": "7fd0d477-62f4-43e2-fa1e-30c0d566edf8",
        "colab": {
          "base_uri": "https://localhost:8080/"
        }
      },
      "outputs": [
        {
          "output_type": "stream",
          "name": "stdout",
          "text": [
            "0.40764446123605147\n"
          ]
        }
      ],
      "source": [
        "Z = np.random.uniform(0,1,10)\n",
        "z = 0.5\n",
        "m = Z.flat[np.abs(Z - z).argmin()]\n",
        "print(m)"
      ]
    },
    {
      "cell_type": "markdown",
      "metadata": {
        "_uuid": "ed78b6480e33d62936d0454ef9757390456a37e8",
        "id": "YJF2CZDmtcUs"
      },
      "source": [
        "#### 35) Considering two arrays with shape (1,3) and (3,1): to compute their sum using an iterator (★★☆)"
      ]
    },
    {
      "cell_type": "code",
      "execution_count": 43,
      "metadata": {
        "_uuid": "59b473c6731410e9a83cbf30b56fc6463c4ee8a4",
        "id": "qOovDzZktcUs",
        "outputId": "809ca45f-b956-4c1c-e9f7-e1358d0d2499",
        "colab": {
          "base_uri": "https://localhost:8080/"
        }
      },
      "outputs": [
        {
          "output_type": "stream",
          "name": "stdout",
          "text": [
            "[[0 1 2]\n",
            " [1 2 3]\n",
            " [2 3 4]]\n"
          ]
        }
      ],
      "source": [
        "A = np.arange(3).reshape(3,1)\n",
        "B = np.arange(3).reshape(1,3)\n",
        "it = np.nditer([A,B,None])\n",
        "for x,y,z in it: z[...] = x + y\n",
        "print(it.operands[2])\n"
      ]
    },
    {
      "cell_type": "markdown",
      "metadata": {
        "_uuid": "24b86507600d4f283f09b3117a0b9266446e5b98",
        "id": "Gtisnsy9tcUs"
      },
      "source": [
        "#### 36) find the most frequent value in an array"
      ]
    },
    {
      "cell_type": "code",
      "execution_count": 44,
      "metadata": {
        "_uuid": "bc112b94dc08691f315afb878bdd2c52cbb4c3bc",
        "id": "n9sDmx0GtcUs",
        "outputId": "d60ad50e-2e57-49bd-b5b0-4a73e8fb8ca3",
        "colab": {
          "base_uri": "https://localhost:8080/"
        }
      },
      "outputs": [
        {
          "output_type": "stream",
          "name": "stdout",
          "text": [
            "7\n"
          ]
        }
      ],
      "source": [
        "Z = np.random.randint(0,10,50)\n",
        "print(np.bincount(Z).argmax())\n"
      ]
    },
    {
      "cell_type": "markdown",
      "metadata": {
        "_uuid": "c5a8dd39a51cf4dbe37653e3d6131d06ac7a449c",
        "id": "8lWr3gWitcUs"
      },
      "source": [
        "#### 37) Given a two dimensional array, extract unique rows (★★★)"
      ]
    },
    {
      "cell_type": "code",
      "execution_count": 45,
      "metadata": {
        "_uuid": "2015fb48f278ce0021a3aa8f98db67438d2d92a6",
        "id": "sJ4PohDEtcUt"
      },
      "outputs": [],
      "source": [
        "Z = np.random.randint(0,2,(6,3))\n",
        "T = np.ascontiguousarray(Z).view(np.dtype((np.void, Z.dtype.itemsize * Z.shape[1])))\n"
      ]
    },
    {
      "cell_type": "code",
      "execution_count": null,
      "metadata": {
        "id": "olYMpnBltcUt"
      },
      "outputs": [],
      "source": []
    }
  ],
  "metadata": {
    "kernelspec": {
      "display_name": "Python 3 (ipykernel)",
      "language": "python",
      "name": "python3"
    },
    "language_info": {
      "codemirror_mode": {
        "name": "ipython",
        "version": 3
      },
      "file_extension": ".py",
      "mimetype": "text/x-python",
      "name": "python",
      "nbconvert_exporter": "python",
      "pygments_lexer": "ipython3",
      "version": "3.11.0"
    },
    "colab": {
      "provenance": []
    }
  },
  "nbformat": 4,
  "nbformat_minor": 0
}