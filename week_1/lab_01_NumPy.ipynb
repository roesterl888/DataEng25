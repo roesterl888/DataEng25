{
  "cells": [
    {
      "cell_type": "markdown",
      "metadata": {
        "id": "bmTE-aY5jzh1"
      },
      "source": [
        "# Recalling Numpy Array Slicing and Indexing"
      ]
    },
    {
      "cell_type": "code",
      "execution_count": 2,
      "metadata": {
        "id": "00pcjY1Sjzh4"
      },
      "outputs": [],
      "source": [
        "import numpy as np"
      ]
    },
    {
      "cell_type": "code",
      "execution_count": 3,
      "metadata": {
        "id": "-DEAq7usjzh5"
      },
      "outputs": [],
      "source": [
        "#create array\n",
        "x = np.asarray(range(1,26), np.int8).reshape(5,5)"
      ]
    },
    {
      "cell_type": "code",
      "execution_count": 9,
      "metadata": {
        "id": "W1MV1yuajzh5",
        "outputId": "7ee1b11d-f46c-4ab1-e603-438e3eb89d25",
        "colab": {
          "base_uri": "https://localhost:8080/"
        }
      },
      "outputs": [
        {
          "output_type": "execute_result",
          "data": {
            "text/plain": [
              "array([[ 1,  2,  3,  4,  5],\n",
              "       [ 6,  7,  8,  9, 10],\n",
              "       [11, 12, 13, 14, 15],\n",
              "       [16, 17, 18, 19, 20],\n",
              "       [21, 22, 23, 24, 25]], dtype=int8)"
            ]
          },
          "metadata": {},
          "execution_count": 9
        }
      ],
      "source": [
        "x"
      ]
    },
    {
      "cell_type": "markdown",
      "metadata": {
        "id": "G-7PEFjnjzh6"
      },
      "source": [
        "## Slice first 3 elements\n",
        "\n",
        "<img src=\"https://github.com/roesterl888/DataEng25/blob/main/week_1/IMG/np01.png?raw=1\">"
      ]
    },
    {
      "cell_type": "code",
      "execution_count": 12,
      "metadata": {
        "id": "x6QD-5Fejzh7",
        "outputId": "1534b8e0-244c-4808-96fb-79e8af1524f2",
        "colab": {
          "base_uri": "https://localhost:8080/"
        }
      },
      "outputs": [
        {
          "output_type": "execute_result",
          "data": {
            "text/plain": [
              "array([[1, 2, 3]], dtype=int8)"
            ]
          },
          "metadata": {},
          "execution_count": 12
        }
      ],
      "source": [
        "x[0:1,:3]\n"
      ]
    },
    {
      "cell_type": "markdown",
      "metadata": {
        "id": "REh1Jxlnjzh7"
      },
      "source": [
        "##  Slice first 8 elements\n",
        "\n",
        "<img src=\"https://github.com/roesterl888/DataEng25/blob/main/week_1/IMG/np02.png?raw=1\">"
      ]
    },
    {
      "cell_type": "code",
      "execution_count": 15,
      "metadata": {
        "id": "nwhngQ6Njzh8",
        "outputId": "a8ad8789-0462-4549-db14-39e38e7dcfc6",
        "colab": {
          "base_uri": "https://localhost:8080/"
        }
      },
      "outputs": [
        {
          "output_type": "execute_result",
          "data": {
            "text/plain": [
              "array([1, 2, 3, 4, 5, 6, 7, 8], dtype=int8)"
            ]
          },
          "metadata": {},
          "execution_count": 15
        }
      ],
      "source": [
        "x.flatten()[:8]"
      ]
    },
    {
      "cell_type": "markdown",
      "metadata": {
        "id": "07pFxYKujzh8"
      },
      "source": [
        "## Skip every other element\n",
        "\n",
        "<img src=\"https://github.com/roesterl888/DataEng25/blob/main/week_1/IMG/np03.png?raw=1\">"
      ]
    },
    {
      "cell_type": "code",
      "execution_count": 19,
      "metadata": {
        "id": "GYbPF4V2jzh9",
        "outputId": "46bfe3bc-0554-4686-8374-4197de14ff14",
        "colab": {
          "base_uri": "https://localhost:8080/"
        }
      },
      "outputs": [
        {
          "output_type": "execute_result",
          "data": {
            "text/plain": [
              "array([1, 3, 5], dtype=int8)"
            ]
          },
          "metadata": {},
          "execution_count": 19
        }
      ],
      "source": [
        "x[0, ::2]"
      ]
    },
    {
      "cell_type": "markdown",
      "metadata": {
        "id": "qpixohfAjzh9"
      },
      "source": [
        "## Slice first column\n",
        "\n",
        "<img src=\"https://github.com/roesterl888/DataEng25/blob/main/week_1/IMG/np04.png?raw=1\">"
      ]
    },
    {
      "cell_type": "code",
      "execution_count": 23,
      "metadata": {
        "id": "H4cCvg4Ojzh9",
        "outputId": "a0acc167-dfc3-49b3-eb05-68b33f31668b",
        "colab": {
          "base_uri": "https://localhost:8080/"
        }
      },
      "outputs": [
        {
          "output_type": "execute_result",
          "data": {
            "text/plain": [
              "array([[ 1],\n",
              "       [ 6],\n",
              "       [11],\n",
              "       [16]], dtype=int8)"
            ]
          },
          "metadata": {},
          "execution_count": 23
        }
      ],
      "source": [
        "x[0:4,:1]"
      ]
    },
    {
      "cell_type": "markdown",
      "metadata": {
        "id": "VDqCUOp_jzh9"
      },
      "source": [
        "## Slice a diagonal\n",
        "\n",
        "<img src=\"https://github.com/roesterl888/DataEng25/blob/main/week_1/IMG/np05.png?raw=1\">"
      ]
    },
    {
      "cell_type": "code",
      "execution_count": 24,
      "metadata": {
        "id": "qzIo1PaVjzh-",
        "outputId": "66ce0c8e-755d-4521-9e85-6b9c443f0dad",
        "colab": {
          "base_uri": "https://localhost:8080/"
        }
      },
      "outputs": [
        {
          "output_type": "execute_result",
          "data": {
            "text/plain": [
              "array([ 1,  7, 13, 19, 25], dtype=int8)"
            ]
          },
          "metadata": {},
          "execution_count": 24
        }
      ],
      "source": [
        "np.diagonal(x)"
      ]
    },
    {
      "cell_type": "markdown",
      "metadata": {
        "id": "Ecjlsf0Ujzh-"
      },
      "source": [
        "## Repeat the first element\n",
        "\n",
        "<img src=\"https://github.com/roesterl888/DataEng25/blob/main/week_1/IMG/np06.png?raw=1\">"
      ]
    },
    {
      "cell_type": "code",
      "execution_count": 27,
      "metadata": {
        "id": "zDYqUrV5jzh-",
        "outputId": "bf982839-ece0-4c51-88f8-78687c43f4e2",
        "colab": {
          "base_uri": "https://localhost:8080/"
        }
      },
      "outputs": [
        {
          "output_type": "execute_result",
          "data": {
            "text/plain": [
              "array([1, 1, 1, 1, 1], dtype=int8)"
            ]
          },
          "metadata": {},
          "execution_count": 27
        }
      ],
      "source": [
        "np.repeat(x[0,0],5)"
      ]
    },
    {
      "cell_type": "markdown",
      "metadata": {
        "id": "zepUtPe8jzh-"
      },
      "source": [
        "## Simple 2D slicing\n",
        "\n",
        "<img src=\"https://github.com/roesterl888/DataEng25/blob/main/week_1/IMG/np07.png?raw=1\">"
      ]
    },
    {
      "cell_type": "code",
      "execution_count": 28,
      "metadata": {
        "id": "j4gACPScjzh-",
        "outputId": "a072ed83-075c-4eee-8365-f3f9caedbccd",
        "colab": {
          "base_uri": "https://localhost:8080/"
        }
      },
      "outputs": [
        {
          "output_type": "execute_result",
          "data": {
            "text/plain": [
              "array([[ 1,  2,  3,  4],\n",
              "       [ 6,  7,  8,  9],\n",
              "       [11, 12, 13, 14]], dtype=int8)"
            ]
          },
          "metadata": {},
          "execution_count": 28
        }
      ],
      "source": [
        "x[0:3, 0:4]"
      ]
    },
    {
      "cell_type": "markdown",
      "metadata": {
        "id": "X4ET0oRejzh-"
      },
      "source": [
        "## Slice a zigzag\n",
        "\n",
        "<img src=\"https://github.com/roesterl888/DataEng25/blob/main/week_1/IMG/np08.png?raw=1\">"
      ]
    },
    {
      "cell_type": "code",
      "execution_count": 32,
      "metadata": {
        "id": "9mgyr0p5jzh_",
        "outputId": "51e15868-9f60-473c-c693-1a78b5fd34bd",
        "colab": {
          "base_uri": "https://localhost:8080/",
          "height": 216
        }
      },
      "outputs": [
        {
          "output_type": "error",
          "ename": "AttributeError",
          "evalue": "'NoneType' object has no attribute 'append'",
          "traceback": [
            "\u001b[0;31m---------------------------------------------------------------------------\u001b[0m",
            "\u001b[0;31mAttributeError\u001b[0m                            Traceback (most recent call last)",
            "\u001b[0;32m<ipython-input-32-417658bb04bc>\u001b[0m in \u001b[0;36m<cell line: 0>\u001b[0;34m()\u001b[0m\n\u001b[1;32m      1\u001b[0m \u001b[0mresult\u001b[0m\u001b[0;34m=\u001b[0m \u001b[0;34m[\u001b[0m\u001b[0;34m]\u001b[0m\u001b[0;34m\u001b[0m\u001b[0;34m\u001b[0m\u001b[0m\n\u001b[1;32m      2\u001b[0m \u001b[0mresult\u001b[0m \u001b[0;34m=\u001b[0m \u001b[0mresult\u001b[0m\u001b[0;34m.\u001b[0m\u001b[0mappend\u001b[0m\u001b[0;34m(\u001b[0m\u001b[0mx\u001b[0m\u001b[0;34m[\u001b[0m\u001b[0;36m0\u001b[0m\u001b[0;34m:\u001b[0m\u001b[0;36m1\u001b[0m\u001b[0;34m,\u001b[0m \u001b[0;36m0\u001b[0m\u001b[0;34m:\u001b[0m\u001b[0;36m2\u001b[0m\u001b[0;34m]\u001b[0m\u001b[0;34m)\u001b[0m\u001b[0;34m\u001b[0m\u001b[0;34m\u001b[0m\u001b[0m\n\u001b[0;32m----> 3\u001b[0;31m \u001b[0mresult\u001b[0m \u001b[0;34m=\u001b[0m \u001b[0mresult\u001b[0m\u001b[0;34m.\u001b[0m\u001b[0mappend\u001b[0m\u001b[0;34m(\u001b[0m\u001b[0mx\u001b[0m\u001b[0;34m[\u001b[0m\u001b[0;36m1\u001b[0m\u001b[0;34m:\u001b[0m\u001b[0;36m2\u001b[0m\u001b[0;34m,\u001b[0m \u001b[0;36m1\u001b[0m\u001b[0;34m:\u001b[0m\u001b[0;36m3\u001b[0m\u001b[0;34m]\u001b[0m\u001b[0;34m)\u001b[0m\u001b[0;34m\u001b[0m\u001b[0;34m\u001b[0m\u001b[0m\n\u001b[0m\u001b[1;32m      4\u001b[0m \u001b[0mresult\u001b[0m \u001b[0;34m=\u001b[0m \u001b[0mresult\u001b[0m\u001b[0;34m.\u001b[0m\u001b[0mappend\u001b[0m\u001b[0;34m(\u001b[0m\u001b[0mx\u001b[0m\u001b[0;34m[\u001b[0m\u001b[0;36m2\u001b[0m\u001b[0;34m:\u001b[0m\u001b[0;36m3\u001b[0m\u001b[0;34m,\u001b[0m \u001b[0;36m2\u001b[0m\u001b[0;34m:\u001b[0m\u001b[0;36m4\u001b[0m\u001b[0;34m]\u001b[0m\u001b[0;34m)\u001b[0m\u001b[0;34m\u001b[0m\u001b[0;34m\u001b[0m\u001b[0m\n\u001b[1;32m      5\u001b[0m \u001b[0mresult\u001b[0m \u001b[0;34m=\u001b[0m \u001b[0mresult\u001b[0m\u001b[0;34m.\u001b[0m\u001b[0mappend\u001b[0m\u001b[0;34m(\u001b[0m\u001b[0mx\u001b[0m\u001b[0;34m[\u001b[0m\u001b[0;36m3\u001b[0m\u001b[0;34m:\u001b[0m\u001b[0;36m4\u001b[0m\u001b[0;34m,\u001b[0m \u001b[0;36m3\u001b[0m\u001b[0;34m:\u001b[0m\u001b[0;36m5\u001b[0m\u001b[0;34m]\u001b[0m\u001b[0;34m)\u001b[0m\u001b[0;34m\u001b[0m\u001b[0;34m\u001b[0m\u001b[0m\n",
            "\u001b[0;31mAttributeError\u001b[0m: 'NoneType' object has no attribute 'append'"
          ]
        }
      ],
      "source": [
        "result= []\n",
        "result = result.append(x[0:1, 0:2])\n",
        "result = result.append(x[1:2, 1:3])\n",
        "result = result.append(x[2:3, 2:4])\n",
        "result = result.append(x[3:4, 3:5])\n",
        "print(result)\n"
      ]
    },
    {
      "cell_type": "markdown",
      "metadata": {
        "id": "J7nsYeH7jzh_"
      },
      "source": [
        "## Sparse slicing\n",
        "\n",
        "<img src=\"https://github.com/roesterl888/DataEng25/blob/main/week_1/IMG/np09.png?raw=1\">"
      ]
    },
    {
      "cell_type": "code",
      "execution_count": null,
      "metadata": {
        "id": "oyElcOb-jzh_"
      },
      "outputs": [],
      "source": []
    },
    {
      "cell_type": "markdown",
      "metadata": {
        "id": "qf5_bI5Djzh_"
      },
      "source": [
        "## Transpose a 2D array\n",
        "\n",
        "<img src=\"https://github.com/roesterl888/DataEng25/blob/main/week_1/IMG/np10.png?raw=1\">"
      ]
    },
    {
      "cell_type": "code",
      "execution_count": null,
      "metadata": {
        "id": "4hKpWc29jzh_"
      },
      "outputs": [],
      "source": []
    },
    {
      "cell_type": "markdown",
      "metadata": {
        "id": "UPo9XypsjziA"
      },
      "source": [
        "## Repeat the first column 4 times\n",
        "\n",
        "\n",
        "<img src=\"https://github.com/roesterl888/DataEng25/blob/main/week_1/IMG/np11.png?raw=1\">"
      ]
    },
    {
      "cell_type": "code",
      "execution_count": null,
      "metadata": {
        "id": "nzvpR7zMjziA"
      },
      "outputs": [],
      "source": []
    },
    {
      "cell_type": "markdown",
      "metadata": {
        "id": "ZZ418MpJjziA"
      },
      "source": [
        "## Reshape 1D array to 2D array\n",
        "\n",
        "<img src=\"https://github.com/roesterl888/DataEng25/blob/main/week_1/IMG/np12.png?raw=1\">"
      ]
    },
    {
      "cell_type": "code",
      "execution_count": null,
      "metadata": {
        "id": "cLxFDOGTjziA",
        "outputId": "c045f555-e308-4df1-cbb8-a1c3544fd374"
      },
      "outputs": [
        {
          "name": "stdout",
          "output_type": "stream",
          "text": [
            "[ 1  2  3  4  5  6  7  8  9 10 11 12]\n"
          ]
        }
      ],
      "source": [
        "x = np.asarray(range(1,13), np.int64)\n",
        "print(x)\n"
      ]
    },
    {
      "cell_type": "markdown",
      "metadata": {
        "id": "bfSIepuLjziA"
      },
      "source": [
        "## Collapse an axis from a 3D array\n",
        "\n",
        "<img src=\"https://github.com/roesterl888/DataEng25/blob/main/week_1/IMG/np13.png?raw=1\">"
      ]
    },
    {
      "cell_type": "code",
      "execution_count": null,
      "metadata": {
        "id": "cUrgFYEsjziA",
        "outputId": "c9ac7dc2-d6bd-407f-83ff-c403152e80ef"
      },
      "outputs": [
        {
          "name": "stdout",
          "output_type": "stream",
          "text": [
            "[[[ 1  2]\n",
            "  [ 3  4]]\n",
            "\n",
            " [[ 5  6]\n",
            "  [ 7  8]]\n",
            "\n",
            " [[ 9 10]\n",
            "  [11 12]]]\n"
          ]
        }
      ],
      "source": [
        "x = np.asarray(range(1,13), np.int8).reshape(3,2,2)\n",
        "print(x)"
      ]
    },
    {
      "cell_type": "code",
      "execution_count": null,
      "metadata": {
        "id": "vCe_joo9jziB"
      },
      "outputs": [],
      "source": []
    }
  ],
  "metadata": {
    "kernelspec": {
      "display_name": "Python 3",
      "language": "python",
      "name": "python3"
    },
    "language_info": {
      "codemirror_mode": {
        "name": "ipython",
        "version": 3
      },
      "file_extension": ".py",
      "mimetype": "text/x-python",
      "name": "python",
      "nbconvert_exporter": "python",
      "pygments_lexer": "ipython3",
      "version": "3.7.6"
    },
    "colab": {
      "provenance": []
    }
  },
  "nbformat": 4,
  "nbformat_minor": 0
}